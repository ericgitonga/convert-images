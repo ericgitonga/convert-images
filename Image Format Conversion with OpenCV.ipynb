{
 "cells": [
  {
   "cell_type": "markdown",
   "id": "b0e5bcdb",
   "metadata": {},
   "source": [
    "Motivated by [George Lecakes' video](https://www.youtube.com/watch?v=LwaJ2zjCp5Q)"
   ]
  },
  {
   "cell_type": "code",
   "execution_count": 3,
   "id": "097bc420",
   "metadata": {},
   "outputs": [
    {
     "name": "stdout",
     "output_type": "stream",
     "text": [
      "Enter the image file extension:jpg\n"
     ]
    }
   ],
   "source": [
    "import os\n",
    "import cv2\n",
    "\n",
    "path = \"../media/temp/\"\n",
    "input_extension = input(\"Enter the image file extension:\").lower()\n",
    "# output_extension = input(\"Enter the desired output extension:\").lower()\n",
    "\n",
    "image_files = []\n",
    "for file in os.listdir(path):\n",
    "    if file.lower().endswith(input_extension):\n",
    "        image_files.append(os.path.join(path,file))\n",
    "\n",
    "images = []\n",
    "for file in image_files:\n",
    "    images.append(cv2.imread(file, cv2.IMREAD_UNCHANGED))\n",
    "    \n",
    "if not os.path.exists(path+\"output\"):\n",
    "    !mkdir \"../media/temp/output\"\n",
    "\n",
    "output_path = path+\"output/\"\n",
    "\n",
    "num = 0\n",
    "for image in images:\n",
    "    cv2.imwrite(output_path+str(num)+\".tif\", image)\n",
    "    num +=1"
   ]
  },
  {
   "cell_type": "code",
   "execution_count": 2,
   "id": "7b8f2fa3",
   "metadata": {},
   "outputs": [
    {
     "data": {
      "text/plain": [
       "'png'"
      ]
     },
     "execution_count": 2,
     "metadata": {},
     "output_type": "execute_result"
    }
   ],
   "source": [
    "output_extension"
   ]
  },
  {
   "cell_type": "code",
   "execution_count": 6,
   "id": "29c94ecb",
   "metadata": {},
   "outputs": [
    {
     "data": {
      "text/plain": [
       "['__call__',\n",
       " '__class__',\n",
       " '__delattr__',\n",
       " '__dir__',\n",
       " '__doc__',\n",
       " '__eq__',\n",
       " '__format__',\n",
       " '__ge__',\n",
       " '__getattribute__',\n",
       " '__gt__',\n",
       " '__hash__',\n",
       " '__init__',\n",
       " '__init_subclass__',\n",
       " '__le__',\n",
       " '__lt__',\n",
       " '__module__',\n",
       " '__name__',\n",
       " '__ne__',\n",
       " '__new__',\n",
       " '__qualname__',\n",
       " '__reduce__',\n",
       " '__reduce_ex__',\n",
       " '__repr__',\n",
       " '__self__',\n",
       " '__setattr__',\n",
       " '__sizeof__',\n",
       " '__str__',\n",
       " '__subclasshook__',\n",
       " '__text_signature__']"
      ]
     },
     "execution_count": 6,
     "metadata": {},
     "output_type": "execute_result"
    }
   ],
   "source": [
    "dir(cv2.imwrite)"
   ]
  },
  {
   "cell_type": "code",
   "execution_count": null,
   "id": "0da4502c",
   "metadata": {},
   "outputs": [],
   "source": [
    "import os\n",
    "import cv2\n",
    "\n",
    "path = input(\"Enter the path to your images:\")\n",
    "\n",
    "# if not os.path.exists(path+\"output\"):\n",
    "#     !mkdir \"../media/temp/output\"\n",
    "# output_path = path+\"output\"\n",
    "\n",
    "def list_files(path = \".\"):\n",
    "    return [os.path.join(path,file) for file in os.listdir(path) if file.lower().endswith(\".jpg\")]\n",
    "\n",
    "def convert_to_png(path):\n",
    "    images = [cv2.imread(file, cv2.IMREAD_UNCHANGED) for file in list_files(path)]\n",
    "    \n",
    "#     if not os.path.exists(path+\"output\"):\n",
    "#         !mkdir \"../media/temp/output\"\n",
    "\n",
    "#     output_path = path+\"output/\"\n",
    "    \n",
    "    num = 0\n",
    "    for image in images:\n",
    "        cv2.imwrite(output_path+str(num)+\".png\", image)\n",
    "        num +=1\n",
    "        \n",
    "        \n",
    "convert_to_png(path)"
   ]
  }
 ],
 "metadata": {
  "kernelspec": {
   "display_name": "Python 3",
   "language": "python",
   "name": "python3"
  },
  "language_info": {
   "codemirror_mode": {
    "name": "ipython",
    "version": 3
   },
   "file_extension": ".py",
   "mimetype": "text/x-python",
   "name": "python",
   "nbconvert_exporter": "python",
   "pygments_lexer": "ipython3",
   "version": "3.8.8"
  }
 },
 "nbformat": 4,
 "nbformat_minor": 5
}
