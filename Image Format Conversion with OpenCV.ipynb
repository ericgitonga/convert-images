{
 "cells": [
  {
   "cell_type": "markdown",
   "id": "b0e5bcdb",
   "metadata": {},
   "source": [
    "Motivated by [George Lecakes' video](https://www.youtube.com/watch?v=LwaJ2zjCp5Q)"
   ]
  },
  {
   "cell_type": "code",
   "execution_count": 1,
   "id": "097bc420",
   "metadata": {},
   "outputs": [
    {
     "name": "stdout",
     "output_type": "stream",
     "text": [
      "Enter the path to your images:../media/t/\n",
      "Enter the current image type extension:tiff\n",
      "Enter the desired image type extension:png\n"
     ]
    }
   ],
   "source": [
    "import os\n",
    "import cv2\n",
    "\n",
    "path = input(\"Enter the path to your images:\")\n",
    "\n",
    "input_extension = input(\"Enter the current image type extension:\").lower()\n",
    "output_extension = input(\"Enter the desired image type extension:\").lower()\n",
    "\n",
    "image_files = []\n",
    "for file in os.listdir(path):\n",
    "    if file.lower().endswith(input_extension):\n",
    "        image_files.append(os.path.join(path,file))\n",
    "\n",
    "images = []\n",
    "for file in image_files:\n",
    "    images.append(cv2.imread(file, cv2.IMREAD_UNCHANGED))\n",
    "    \n",
    "if not os.path.exists(path+\"output\"):\n",
    "    os.mkdir(path+\"output\")\n",
    "\n",
    "output_path = path+\"output/\"\n",
    "\n",
    "num = 0\n",
    "for image in images:\n",
    "    cv2.imwrite(output_path+str(num)+\".\"+output_extension, image)\n",
    "    num +=1"
   ]
  },
  {
   "cell_type": "code",
   "execution_count": 7,
   "id": "0da4502c",
   "metadata": {},
   "outputs": [
    {
     "name": "stdout",
     "output_type": "stream",
     "text": [
      "Enter the path to your images:.\n",
      "Enter the current image type extension:tiff\n",
      "Enter the desired image type extension:jpg\n"
     ]
    }
   ],
   "source": [
    "import os\n",
    "import cv2\n",
    "\n",
    "path = input(\"Enter the path to your images:\")\n",
    "\n",
    "def list_files(extension, path = \".\"):\n",
    "    return [os.path.join(path,file) for file in os.listdir(path) if file.lower().endswith(\".\"+extension)]\n",
    "\n",
    "def convert_format(path = \".\"):\n",
    "    input_extension = input(\"Enter the current image type extension:\").lower()\n",
    "    output_extension = input(\"Enter the desired image type extension:\").lower()\n",
    "    \n",
    "    images = [cv2.imread(file, cv2.IMREAD_UNCHANGED) for file in list_files(input_extension, path)]\n",
    "    \n",
    "    num = 0\n",
    "    for image in images:\n",
    "        cv2.imwrite(output_path+str(num)+\".\"+output_extension, image)\n",
    "        num +=1\n",
    " \n",
    "if not os.path.exists(path+\"output\"):\n",
    "    os.mkdir(path+\"output\")\n",
    "output_path = path+\"output/\"\n",
    "        \n",
    "convert_format()"
   ]
  }
 ],
 "metadata": {
  "kernelspec": {
   "display_name": "Python 3",
   "language": "python",
   "name": "python3"
  },
  "language_info": {
   "codemirror_mode": {
    "name": "ipython",
    "version": 3
   },
   "file_extension": ".py",
   "mimetype": "text/x-python",
   "name": "python",
   "nbconvert_exporter": "python",
   "pygments_lexer": "ipython3",
   "version": "3.8.8"
  }
 },
 "nbformat": 4,
 "nbformat_minor": 5
}
