{
 "cells": [
  {
   "cell_type": "markdown",
   "id": "b0e5bcdb",
   "metadata": {},
   "source": [
    "Motivated by [George Lecakes' video](https://www.youtube.com/watch?v=LwaJ2zjCp5Q)"
   ]
  },
  {
   "cell_type": "code",
   "execution_count": 18,
   "id": "097bc420",
   "metadata": {},
   "outputs": [
    {
     "name": "stdout",
     "output_type": "stream",
     "text": [
      "Enter the path to your images:../media/t/\n",
      "Enter the current image type extension:tiff\n",
      "Enter the desired image type extension:jpg\n"
     ]
    }
   ],
   "source": [
    "import os\n",
    "import cv2\n",
    "\n",
    "path = input(\"Enter the path to your images:\")\n",
    "\n",
    "input_extension = input(\"Enter the current image type extension:\").lower()\n",
    "output_extension = input(\"Enter the desired image type extension:\").lower()\n",
    "\n",
    "image_files = []\n",
    "for file in os.listdir(path):\n",
    "    if file.lower().endswith(input_extension):\n",
    "        image_files.append(os.path.join(path,file))\n",
    "\n",
    "images = []\n",
    "for file in image_files:\n",
    "    images.append(cv2.imread(file, cv2.IMREAD_UNCHANGED))\n",
    "    \n",
    "if not os.path.exists(path+\"output\"):\n",
    "    os.mkdir(path+\"output\")\n",
    "\n",
    "output_path = path+\"output/\"\n",
    "\n",
    "num = 0\n",
    "for image in images:\n",
    "    cv2.imwrite(output_path+str(num)+\".\"+output_extension, image)\n",
    "    num +=1"
   ]
  },
  {
   "cell_type": "code",
   "execution_count": 11,
   "id": "4059e0ac",
   "metadata": {},
   "outputs": [
    {
     "data": {
      "text/plain": [
       "<subprocess.Popen at 0x7ff568385b80>"
      ]
     },
     "execution_count": 11,
     "metadata": {},
     "output_type": "execute_result"
    }
   ],
   "source": [
    "import subprocess\n",
    "pathb = subprocess.Popen(['/bin/echo', path], stdout=subprocess.PIPE)\n",
    "pathb"
   ]
  },
  {
   "cell_type": "code",
   "execution_count": 5,
   "id": "0374e6ed",
   "metadata": {},
   "outputs": [
    {
     "data": {
      "text/plain": [
       "'../media/t/output/'"
      ]
     },
     "execution_count": 5,
     "metadata": {},
     "output_type": "execute_result"
    }
   ],
   "source": [
    "output_path"
   ]
  },
  {
   "cell_type": "code",
   "execution_count": 17,
   "id": "7b8f2fa3",
   "metadata": {},
   "outputs": [],
   "source": [
    "import cv2\n",
    "\n",
    "f = cv2.imread(\"../media/t/Scr.TIFf\", cv2.IMREAD_UNCHANGED)\n",
    "cv2.imshow(\"Fly\",f)\n",
    "\n",
    "while True:\n",
    "    if(cv2.waitKey(1) & 0xFF == ord(\"q\")):\n",
    "        break\n",
    "cv2.destroyAllWindows()"
   ]
  },
  {
   "cell_type": "code",
   "execution_count": null,
   "id": "29c94ecb",
   "metadata": {},
   "outputs": [],
   "source": [
    "dir(cv2.imwrite)"
   ]
  },
  {
   "cell_type": "code",
   "execution_count": 28,
   "id": "0da4502c",
   "metadata": {},
   "outputs": [
    {
     "name": "stdout",
     "output_type": "stream",
     "text": [
      "Enter the path to your images:\n",
      "Enter the current image type extension:jpg\n",
      "Enter the desired image type extension:png\n"
     ]
    }
   ],
   "source": [
    "import os\n",
    "import cv2\n",
    "\n",
    "path = input(\"Enter the path to your images:\")\n",
    "\n",
    "def list_files(path = \".\"):\n",
    "    return [os.path.join(path,file) for file in os.listdir(path) if file.lower().endswith(\".jpg\")]\n",
    "\n",
    "def convert_format(path = \".\"):\n",
    "    input_extension = input(\"Enter the current image type extension:\").lower()\n",
    "    output_extension = input(\"Enter the desired image type extension:\").lower()\n",
    "    \n",
    "    images = [cv2.imread(file, cv2.IMREAD_UNCHANGED) for file in list_files(path)]\n",
    "    \n",
    "    num = 0\n",
    "    for image in images:\n",
    "        cv2.imwrite(output_path+str(num)+\".\"+output_extension, image)\n",
    "        num +=1\n",
    " \n",
    "if not os.path.exists(path+\"output\"):\n",
    "    os.mkdir(path+\"output\")\n",
    "output_path = path+\"output/\"\n",
    "        \n",
    "convert_format()"
   ]
  }
 ],
 "metadata": {
  "kernelspec": {
   "display_name": "Python 3",
   "language": "python",
   "name": "python3"
  },
  "language_info": {
   "codemirror_mode": {
    "name": "ipython",
    "version": 3
   },
   "file_extension": ".py",
   "mimetype": "text/x-python",
   "name": "python",
   "nbconvert_exporter": "python",
   "pygments_lexer": "ipython3",
   "version": "3.8.8"
  }
 },
 "nbformat": 4,
 "nbformat_minor": 5
}
